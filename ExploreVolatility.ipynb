{
 "cells": [
  {
   "cell_type": "markdown",
   "metadata": {},
   "source": [
    "# Volatility Data Analysis\n",
    "\n",
    "### February 13 2018\n",
    "\n",
    "#### John Ngo"
   ]
  },
  {
   "cell_type": "code",
   "execution_count": 13,
   "metadata": {
    "collapsed": true
   },
   "outputs": [],
   "source": [
    "# import packages and function\n",
    "\n",
    "import numpy as np\n",
    "import pandas as pd\n",
    "import matplotlib.mlab as mlab\n",
    "import matplotlib.pyplot as plt"
   ]
  },
  {
   "cell_type": "code",
   "execution_count": 14,
   "metadata": {},
   "outputs": [
    {
     "data": {
      "text/html": [
       "<div>\n",
       "<style>\n",
       "    .dataframe thead tr:only-child th {\n",
       "        text-align: right;\n",
       "    }\n",
       "\n",
       "    .dataframe thead th {\n",
       "        text-align: left;\n",
       "    }\n",
       "\n",
       "    .dataframe tbody tr th {\n",
       "        vertical-align: top;\n",
       "    }\n",
       "</style>\n",
       "<table border=\"1\" class=\"dataframe\">\n",
       "  <thead>\n",
       "    <tr style=\"text-align: right;\">\n",
       "      <th></th>\n",
       "      <th>Date</th>\n",
       "      <th>Open</th>\n",
       "      <th>High</th>\n",
       "      <th>Low</th>\n",
       "      <th>Close</th>\n",
       "      <th>Adj Close</th>\n",
       "      <th>Volume</th>\n",
       "    </tr>\n",
       "  </thead>\n",
       "  <tbody>\n",
       "    <tr>\n",
       "      <th>0</th>\n",
       "      <td>1990-01-02</td>\n",
       "      <td>17.240000</td>\n",
       "      <td>17.240000</td>\n",
       "      <td>17.240000</td>\n",
       "      <td>17.240000</td>\n",
       "      <td>17.240000</td>\n",
       "      <td>0</td>\n",
       "    </tr>\n",
       "    <tr>\n",
       "      <th>1</th>\n",
       "      <td>1990-01-03</td>\n",
       "      <td>18.190001</td>\n",
       "      <td>18.190001</td>\n",
       "      <td>18.190001</td>\n",
       "      <td>18.190001</td>\n",
       "      <td>18.190001</td>\n",
       "      <td>0</td>\n",
       "    </tr>\n",
       "    <tr>\n",
       "      <th>2</th>\n",
       "      <td>1990-01-04</td>\n",
       "      <td>19.219999</td>\n",
       "      <td>19.219999</td>\n",
       "      <td>19.219999</td>\n",
       "      <td>19.219999</td>\n",
       "      <td>19.219999</td>\n",
       "      <td>0</td>\n",
       "    </tr>\n",
       "    <tr>\n",
       "      <th>3</th>\n",
       "      <td>1990-01-05</td>\n",
       "      <td>20.110001</td>\n",
       "      <td>20.110001</td>\n",
       "      <td>20.110001</td>\n",
       "      <td>20.110001</td>\n",
       "      <td>20.110001</td>\n",
       "      <td>0</td>\n",
       "    </tr>\n",
       "    <tr>\n",
       "      <th>4</th>\n",
       "      <td>1990-01-08</td>\n",
       "      <td>20.260000</td>\n",
       "      <td>20.260000</td>\n",
       "      <td>20.260000</td>\n",
       "      <td>20.260000</td>\n",
       "      <td>20.260000</td>\n",
       "      <td>0</td>\n",
       "    </tr>\n",
       "  </tbody>\n",
       "</table>\n",
       "</div>"
      ],
      "text/plain": [
       "         Date       Open       High        Low      Close  Adj Close  Volume\n",
       "0  1990-01-02  17.240000  17.240000  17.240000  17.240000  17.240000       0\n",
       "1  1990-01-03  18.190001  18.190001  18.190001  18.190001  18.190001       0\n",
       "2  1990-01-04  19.219999  19.219999  19.219999  19.219999  19.219999       0\n",
       "3  1990-01-05  20.110001  20.110001  20.110001  20.110001  20.110001       0\n",
       "4  1990-01-08  20.260000  20.260000  20.260000  20.260000  20.260000       0"
      ]
     },
     "execution_count": 14,
     "metadata": {},
     "output_type": "execute_result"
    }
   ],
   "source": [
    "# import data and display the first few rows\n",
    "\n",
    "vix = pd.read_csv('vix.csv')\n",
    "\n",
    "vix.head()"
   ]
  },
  {
   "cell_type": "code",
   "execution_count": 15,
   "metadata": {},
   "outputs": [
    {
     "data": {
      "text/html": [
       "<div>\n",
       "<style>\n",
       "    .dataframe thead tr:only-child th {\n",
       "        text-align: right;\n",
       "    }\n",
       "\n",
       "    .dataframe thead th {\n",
       "        text-align: left;\n",
       "    }\n",
       "\n",
       "    .dataframe tbody tr th {\n",
       "        vertical-align: top;\n",
       "    }\n",
       "</style>\n",
       "<table border=\"1\" class=\"dataframe\">\n",
       "  <thead>\n",
       "    <tr style=\"text-align: right;\">\n",
       "      <th></th>\n",
       "      <th>Trade Date</th>\n",
       "      <th>Open</th>\n",
       "      <th>High</th>\n",
       "      <th>Low</th>\n",
       "      <th>Close</th>\n",
       "      <th>Settle</th>\n",
       "      <th>Change</th>\n",
       "      <th>Total Volume</th>\n",
       "      <th>EFP</th>\n",
       "      <th>Prev. Day Open Interest</th>\n",
       "    </tr>\n",
       "  </thead>\n",
       "  <tbody>\n",
       "    <tr>\n",
       "      <th>0</th>\n",
       "      <td>2018-02-12</td>\n",
       "      <td>26.50</td>\n",
       "      <td>28.37</td>\n",
       "      <td>24.75</td>\n",
       "      <td>25.82</td>\n",
       "      <td>25.825</td>\n",
       "      <td>-1.35</td>\n",
       "      <td>105688.0</td>\n",
       "      <td>120.0</td>\n",
       "      <td>77788.0</td>\n",
       "    </tr>\n",
       "    <tr>\n",
       "      <th>1</th>\n",
       "      <td>2018-02-09</td>\n",
       "      <td>27.95</td>\n",
       "      <td>32.90</td>\n",
       "      <td>26.15</td>\n",
       "      <td>27.15</td>\n",
       "      <td>27.175</td>\n",
       "      <td>-0.92</td>\n",
       "      <td>187082.0</td>\n",
       "      <td>13.0</td>\n",
       "      <td>93755.0</td>\n",
       "    </tr>\n",
       "    <tr>\n",
       "      <th>2</th>\n",
       "      <td>2018-02-08</td>\n",
       "      <td>23.10</td>\n",
       "      <td>29.90</td>\n",
       "      <td>22.25</td>\n",
       "      <td>28.05</td>\n",
       "      <td>28.100</td>\n",
       "      <td>4.68</td>\n",
       "      <td>217066.0</td>\n",
       "      <td>6389.0</td>\n",
       "      <td>106139.0</td>\n",
       "    </tr>\n",
       "    <tr>\n",
       "      <th>3</th>\n",
       "      <td>2018-02-07</td>\n",
       "      <td>23.90</td>\n",
       "      <td>24.47</td>\n",
       "      <td>19.50</td>\n",
       "      <td>23.45</td>\n",
       "      <td>23.425</td>\n",
       "      <td>-0.45</td>\n",
       "      <td>214118.0</td>\n",
       "      <td>3510.0</td>\n",
       "      <td>126815.0</td>\n",
       "    </tr>\n",
       "    <tr>\n",
       "      <th>4</th>\n",
       "      <td>2018-02-06</td>\n",
       "      <td>31.75</td>\n",
       "      <td>33.25</td>\n",
       "      <td>20.00</td>\n",
       "      <td>23.90</td>\n",
       "      <td>23.875</td>\n",
       "      <td>-9.35</td>\n",
       "      <td>511008.0</td>\n",
       "      <td>4670.0</td>\n",
       "      <td>172816.0</td>\n",
       "    </tr>\n",
       "  </tbody>\n",
       "</table>\n",
       "</div>"
      ],
      "text/plain": [
       "   Trade Date   Open   High    Low  Close  Settle  Change  Total Volume  \\\n",
       "0  2018-02-12  26.50  28.37  24.75  25.82  25.825   -1.35      105688.0   \n",
       "1  2018-02-09  27.95  32.90  26.15  27.15  27.175   -0.92      187082.0   \n",
       "2  2018-02-08  23.10  29.90  22.25  28.05  28.100    4.68      217066.0   \n",
       "3  2018-02-07  23.90  24.47  19.50  23.45  23.425   -0.45      214118.0   \n",
       "4  2018-02-06  31.75  33.25  20.00  23.90  23.875   -9.35      511008.0   \n",
       "\n",
       "      EFP  Prev. Day Open Interest  \n",
       "0   120.0                  77788.0  \n",
       "1    13.0                  93755.0  \n",
       "2  6389.0                 106139.0  \n",
       "3  3510.0                 126815.0  \n",
       "4  4670.0                 172816.0  "
      ]
     },
     "execution_count": 15,
     "metadata": {},
     "output_type": "execute_result"
    }
   ],
   "source": [
    "v = pd.read_csv('v.csv')\n",
    "\n",
    "v.head()"
   ]
  },
  {
   "cell_type": "code",
   "execution_count": 16,
   "metadata": {},
   "outputs": [
    {
     "data": {
      "text/html": [
       "<div>\n",
       "<style>\n",
       "    .dataframe thead tr:only-child th {\n",
       "        text-align: right;\n",
       "    }\n",
       "\n",
       "    .dataframe thead th {\n",
       "        text-align: left;\n",
       "    }\n",
       "\n",
       "    .dataframe tbody tr th {\n",
       "        vertical-align: top;\n",
       "    }\n",
       "</style>\n",
       "<table border=\"1\" class=\"dataframe\">\n",
       "  <thead>\n",
       "    <tr style=\"text-align: right;\">\n",
       "      <th></th>\n",
       "      <th>Trade Date</th>\n",
       "      <th>Open</th>\n",
       "      <th>High</th>\n",
       "      <th>Low</th>\n",
       "      <th>Close</th>\n",
       "      <th>Settle</th>\n",
       "      <th>Change</th>\n",
       "      <th>Total Volume</th>\n",
       "      <th>EFP</th>\n",
       "      <th>Prev. Day Open Interest</th>\n",
       "    </tr>\n",
       "  </thead>\n",
       "  <tbody>\n",
       "    <tr>\n",
       "      <th>0</th>\n",
       "      <td>2018-02-12</td>\n",
       "      <td>20.30</td>\n",
       "      <td>21.20</td>\n",
       "      <td>19.75</td>\n",
       "      <td>19.85</td>\n",
       "      <td>19.825</td>\n",
       "      <td>-0.60</td>\n",
       "      <td>183266.0</td>\n",
       "      <td>5507.0</td>\n",
       "      <td>235693.0</td>\n",
       "    </tr>\n",
       "    <tr>\n",
       "      <th>1</th>\n",
       "      <td>2018-02-09</td>\n",
       "      <td>21.60</td>\n",
       "      <td>23.44</td>\n",
       "      <td>20.34</td>\n",
       "      <td>20.40</td>\n",
       "      <td>20.425</td>\n",
       "      <td>-1.22</td>\n",
       "      <td>231284.0</td>\n",
       "      <td>917.0</td>\n",
       "      <td>231520.0</td>\n",
       "    </tr>\n",
       "    <tr>\n",
       "      <th>2</th>\n",
       "      <td>2018-02-08</td>\n",
       "      <td>19.70</td>\n",
       "      <td>23.39</td>\n",
       "      <td>18.75</td>\n",
       "      <td>21.60</td>\n",
       "      <td>21.650</td>\n",
       "      <td>1.78</td>\n",
       "      <td>270960.0</td>\n",
       "      <td>2598.0</td>\n",
       "      <td>224701.0</td>\n",
       "    </tr>\n",
       "    <tr>\n",
       "      <th>3</th>\n",
       "      <td>2018-02-07</td>\n",
       "      <td>20.45</td>\n",
       "      <td>20.90</td>\n",
       "      <td>17.80</td>\n",
       "      <td>19.90</td>\n",
       "      <td>19.875</td>\n",
       "      <td>-1.15</td>\n",
       "      <td>283310.0</td>\n",
       "      <td>0.0</td>\n",
       "      <td>218471.0</td>\n",
       "    </tr>\n",
       "    <tr>\n",
       "      <th>4</th>\n",
       "      <td>2018-02-06</td>\n",
       "      <td>27.40</td>\n",
       "      <td>28.00</td>\n",
       "      <td>18.10</td>\n",
       "      <td>21.00</td>\n",
       "      <td>21.025</td>\n",
       "      <td>-6.95</td>\n",
       "      <td>675499.0</td>\n",
       "      <td>10748.0</td>\n",
       "      <td>249519.0</td>\n",
       "    </tr>\n",
       "  </tbody>\n",
       "</table>\n",
       "</div>"
      ],
      "text/plain": [
       "   Trade Date   Open   High    Low  Close  Settle  Change  Total Volume  \\\n",
       "0  2018-02-12  20.30  21.20  19.75  19.85  19.825   -0.60      183266.0   \n",
       "1  2018-02-09  21.60  23.44  20.34  20.40  20.425   -1.22      231284.0   \n",
       "2  2018-02-08  19.70  23.39  18.75  21.60  21.650    1.78      270960.0   \n",
       "3  2018-02-07  20.45  20.90  17.80  19.90  19.875   -1.15      283310.0   \n",
       "4  2018-02-06  27.40  28.00  18.10  21.00  21.025   -6.95      675499.0   \n",
       "\n",
       "       EFP  Prev. Day Open Interest  \n",
       "0   5507.0                 235693.0  \n",
       "1    917.0                 231520.0  \n",
       "2   2598.0                 224701.0  \n",
       "3      0.0                 218471.0  \n",
       "4  10748.0                 249519.0  "
      ]
     },
     "execution_count": 16,
     "metadata": {},
     "output_type": "execute_result"
    }
   ],
   "source": [
    "vv = pd.read_csv('vv.csv')\n",
    "\n",
    "vv.head()"
   ]
  },
  {
   "cell_type": "code",
   "execution_count": 17,
   "metadata": {},
   "outputs": [
    {
     "data": {
      "text/html": [
       "<div>\n",
       "<style>\n",
       "    .dataframe thead tr:only-child th {\n",
       "        text-align: right;\n",
       "    }\n",
       "\n",
       "    .dataframe thead th {\n",
       "        text-align: left;\n",
       "    }\n",
       "\n",
       "    .dataframe tbody tr th {\n",
       "        vertical-align: top;\n",
       "    }\n",
       "</style>\n",
       "<table border=\"1\" class=\"dataframe\">\n",
       "  <thead>\n",
       "    <tr style=\"text-align: right;\">\n",
       "      <th></th>\n",
       "      <th>Date</th>\n",
       "      <th>Open</th>\n",
       "      <th>High</th>\n",
       "      <th>Low</th>\n",
       "      <th>Close</th>\n",
       "      <th>Adj Close</th>\n",
       "      <th>Volume</th>\n",
       "    </tr>\n",
       "  </thead>\n",
       "  <tbody>\n",
       "    <tr>\n",
       "      <th>0</th>\n",
       "      <td>1993-01-29</td>\n",
       "      <td>43.9687</td>\n",
       "      <td>43.9687</td>\n",
       "      <td>43.7500</td>\n",
       "      <td>43.9375</td>\n",
       "      <td>27.466780</td>\n",
       "      <td>1003200</td>\n",
       "    </tr>\n",
       "    <tr>\n",
       "      <th>1</th>\n",
       "      <td>1993-02-01</td>\n",
       "      <td>43.9687</td>\n",
       "      <td>44.2500</td>\n",
       "      <td>43.9687</td>\n",
       "      <td>44.2500</td>\n",
       "      <td>27.662146</td>\n",
       "      <td>480500</td>\n",
       "    </tr>\n",
       "    <tr>\n",
       "      <th>2</th>\n",
       "      <td>1993-02-02</td>\n",
       "      <td>44.2187</td>\n",
       "      <td>44.3750</td>\n",
       "      <td>44.1250</td>\n",
       "      <td>44.3437</td>\n",
       "      <td>27.720715</td>\n",
       "      <td>201300</td>\n",
       "    </tr>\n",
       "    <tr>\n",
       "      <th>3</th>\n",
       "      <td>1993-02-03</td>\n",
       "      <td>44.4062</td>\n",
       "      <td>44.8437</td>\n",
       "      <td>44.3750</td>\n",
       "      <td>44.8125</td>\n",
       "      <td>28.013771</td>\n",
       "      <td>529400</td>\n",
       "    </tr>\n",
       "    <tr>\n",
       "      <th>4</th>\n",
       "      <td>1993-02-04</td>\n",
       "      <td>44.9687</td>\n",
       "      <td>45.0937</td>\n",
       "      <td>44.4687</td>\n",
       "      <td>45.0000</td>\n",
       "      <td>28.130983</td>\n",
       "      <td>531500</td>\n",
       "    </tr>\n",
       "  </tbody>\n",
       "</table>\n",
       "</div>"
      ],
      "text/plain": [
       "         Date     Open     High      Low    Close  Adj Close   Volume\n",
       "0  1993-01-29  43.9687  43.9687  43.7500  43.9375  27.466780  1003200\n",
       "1  1993-02-01  43.9687  44.2500  43.9687  44.2500  27.662146   480500\n",
       "2  1993-02-02  44.2187  44.3750  44.1250  44.3437  27.720715   201300\n",
       "3  1993-02-03  44.4062  44.8437  44.3750  44.8125  28.013771   529400\n",
       "4  1993-02-04  44.9687  45.0937  44.4687  45.0000  28.130983   531500"
      ]
     },
     "execution_count": 17,
     "metadata": {},
     "output_type": "execute_result"
    }
   ],
   "source": [
    "spy = pd.read_csv('spy.csv')\n",
    "\n",
    "spy.head()"
   ]
  },
  {
   "cell_type": "code",
   "execution_count": 18,
   "metadata": {},
   "outputs": [
    {
     "data": {
      "text/html": [
       "<div>\n",
       "<style>\n",
       "    .dataframe thead tr:only-child th {\n",
       "        text-align: right;\n",
       "    }\n",
       "\n",
       "    .dataframe thead th {\n",
       "        text-align: left;\n",
       "    }\n",
       "\n",
       "    .dataframe tbody tr th {\n",
       "        vertical-align: top;\n",
       "    }\n",
       "</style>\n",
       "<table border=\"1\" class=\"dataframe\">\n",
       "  <thead>\n",
       "    <tr style=\"text-align: right;\">\n",
       "      <th></th>\n",
       "      <th>Date</th>\n",
       "      <th>Open</th>\n",
       "      <th>High</th>\n",
       "      <th>Low</th>\n",
       "      <th>Close</th>\n",
       "      <th>Adj Close</th>\n",
       "      <th>Volume</th>\n",
       "    </tr>\n",
       "  </thead>\n",
       "  <tbody>\n",
       "    <tr>\n",
       "      <th>0</th>\n",
       "      <td>2011-10-04</td>\n",
       "      <td>48540000.0</td>\n",
       "      <td>48960000.0</td>\n",
       "      <td>41160000.0</td>\n",
       "      <td>41160000.0</td>\n",
       "      <td>41160000.0</td>\n",
       "      <td>0</td>\n",
       "    </tr>\n",
       "    <tr>\n",
       "      <th>1</th>\n",
       "      <td>2011-10-05</td>\n",
       "      <td>39492000.0</td>\n",
       "      <td>39780000.0</td>\n",
       "      <td>36276000.0</td>\n",
       "      <td>36276000.0</td>\n",
       "      <td>36276000.0</td>\n",
       "      <td>0</td>\n",
       "    </tr>\n",
       "    <tr>\n",
       "      <th>2</th>\n",
       "      <td>2011-10-06</td>\n",
       "      <td>36228000.0</td>\n",
       "      <td>37560000.0</td>\n",
       "      <td>34800000.0</td>\n",
       "      <td>34800000.0</td>\n",
       "      <td>34800000.0</td>\n",
       "      <td>0</td>\n",
       "    </tr>\n",
       "    <tr>\n",
       "      <th>3</th>\n",
       "      <td>2011-10-07</td>\n",
       "      <td>34116000.0</td>\n",
       "      <td>37152000.0</td>\n",
       "      <td>33696000.0</td>\n",
       "      <td>35304000.0</td>\n",
       "      <td>35304000.0</td>\n",
       "      <td>0</td>\n",
       "    </tr>\n",
       "    <tr>\n",
       "      <th>4</th>\n",
       "      <td>2011-10-10</td>\n",
       "      <td>33096000.0</td>\n",
       "      <td>33120000.0</td>\n",
       "      <td>31188000.0</td>\n",
       "      <td>31188000.0</td>\n",
       "      <td>31188000.0</td>\n",
       "      <td>0</td>\n",
       "    </tr>\n",
       "  </tbody>\n",
       "</table>\n",
       "</div>"
      ],
      "text/plain": [
       "         Date        Open        High         Low       Close   Adj Close  \\\n",
       "0  2011-10-04  48540000.0  48960000.0  41160000.0  41160000.0  41160000.0   \n",
       "1  2011-10-05  39492000.0  39780000.0  36276000.0  36276000.0  36276000.0   \n",
       "2  2011-10-06  36228000.0  37560000.0  34800000.0  34800000.0  34800000.0   \n",
       "3  2011-10-07  34116000.0  37152000.0  33696000.0  35304000.0  35304000.0   \n",
       "4  2011-10-10  33096000.0  33120000.0  31188000.0  31188000.0  31188000.0   \n",
       "\n",
       "   Volume  \n",
       "0       0  \n",
       "1       0  \n",
       "2       0  \n",
       "3       0  \n",
       "4       0  "
      ]
     },
     "execution_count": 18,
     "metadata": {},
     "output_type": "execute_result"
    }
   ],
   "source": [
    "uvxy = pd.read_csv('uvxy.csv')\n",
    "\n",
    "uvxy.head()"
   ]
  },
  {
   "cell_type": "code",
   "execution_count": 19,
   "metadata": {},
   "outputs": [
    {
     "data": {
      "text/html": [
       "<div>\n",
       "<style>\n",
       "    .dataframe thead tr:only-child th {\n",
       "        text-align: right;\n",
       "    }\n",
       "\n",
       "    .dataframe thead th {\n",
       "        text-align: left;\n",
       "    }\n",
       "\n",
       "    .dataframe tbody tr th {\n",
       "        vertical-align: top;\n",
       "    }\n",
       "</style>\n",
       "<table border=\"1\" class=\"dataframe\">\n",
       "  <thead>\n",
       "    <tr style=\"text-align: right;\">\n",
       "      <th></th>\n",
       "      <th>Date</th>\n",
       "      <th>Open</th>\n",
       "      <th>High</th>\n",
       "      <th>Low</th>\n",
       "      <th>Close</th>\n",
       "      <th>Adj Close</th>\n",
       "      <th>Volume</th>\n",
       "    </tr>\n",
       "  </thead>\n",
       "  <tbody>\n",
       "    <tr>\n",
       "      <th>0</th>\n",
       "      <td>2009-01-30</td>\n",
       "      <td>102512.640625</td>\n",
       "      <td>107560.960938</td>\n",
       "      <td>102144.000000</td>\n",
       "      <td>107089.921875</td>\n",
       "      <td>107089.921875</td>\n",
       "      <td>200</td>\n",
       "    </tr>\n",
       "    <tr>\n",
       "      <th>1</th>\n",
       "      <td>2009-02-02</td>\n",
       "      <td>110694.398438</td>\n",
       "      <td>110694.398438</td>\n",
       "      <td>106434.562500</td>\n",
       "      <td>106752.000000</td>\n",
       "      <td>106752.000000</td>\n",
       "      <td>300</td>\n",
       "    </tr>\n",
       "    <tr>\n",
       "      <th>2</th>\n",
       "      <td>2009-02-03</td>\n",
       "      <td>106639.359375</td>\n",
       "      <td>106639.359375</td>\n",
       "      <td>101693.437500</td>\n",
       "      <td>101754.882813</td>\n",
       "      <td>101754.882813</td>\n",
       "      <td>100</td>\n",
       "    </tr>\n",
       "    <tr>\n",
       "      <th>3</th>\n",
       "      <td>2009-02-04</td>\n",
       "      <td>100608.000000</td>\n",
       "      <td>102799.359375</td>\n",
       "      <td>99328.000000</td>\n",
       "      <td>102133.757813</td>\n",
       "      <td>102133.757813</td>\n",
       "      <td>100</td>\n",
       "    </tr>\n",
       "    <tr>\n",
       "      <th>4</th>\n",
       "      <td>2009-02-05</td>\n",
       "      <td>104038.398438</td>\n",
       "      <td>106280.960938</td>\n",
       "      <td>100505.601563</td>\n",
       "      <td>101509.117188</td>\n",
       "      <td>101509.117188</td>\n",
       "      <td>200</td>\n",
       "    </tr>\n",
       "  </tbody>\n",
       "</table>\n",
       "</div>"
      ],
      "text/plain": [
       "         Date           Open           High            Low          Close  \\\n",
       "0  2009-01-30  102512.640625  107560.960938  102144.000000  107089.921875   \n",
       "1  2009-02-02  110694.398438  110694.398438  106434.562500  106752.000000   \n",
       "2  2009-02-03  106639.359375  106639.359375  101693.437500  101754.882813   \n",
       "3  2009-02-04  100608.000000  102799.359375   99328.000000  102133.757813   \n",
       "4  2009-02-05  104038.398438  106280.960938  100505.601563  101509.117188   \n",
       "\n",
       "       Adj Close Volume  \n",
       "0  107089.921875    200  \n",
       "1  106752.000000    300  \n",
       "2  101754.882813    100  \n",
       "3  102133.757813    100  \n",
       "4  101509.117188    200  "
      ]
     },
     "execution_count": 19,
     "metadata": {},
     "output_type": "execute_result"
    }
   ],
   "source": [
    "vxx = pd.read_csv('vxx.csv')\n",
    "\n",
    "vxx.head()"
   ]
  },
  {
   "cell_type": "code",
   "execution_count": 20,
   "metadata": {},
   "outputs": [
    {
     "data": {
      "text/plain": [
       "'Roll daily from UX1 to UX2.\\n\\xe2\\x80\\xa2 Use slope between UX1 and UX2 as\\ntrading signal\\n\\n\\xe2\\x80\\xa2 If Slope > 0 then Short VIX\\n\\xe2\\x80\\xa2 If Slope < 0 then Long VIX\\n\\ndef contango (\\n        if vv-v/vv > 0;\\n            buy spy\\n        else go to cash\\n)\\n\\ndef backwardation (\\n        when vv-v/vv < 0\\n            go to cash\\n)\\n\\nSwitch position when signal changes\\nand remains for three trading days  '"
      ]
     },
     "execution_count": 20,
     "metadata": {},
     "output_type": "execute_result"
    }
   ],
   "source": [
    "'''Roll daily from UX1 to UX2.\n",
    "• Use slope between UX1 and UX2 as\n",
    "trading signal\n",
    "\n",
    "• If Slope > 0 then Short VIX\n",
    "• If Slope < 0 then Long VIX\n",
    "\n",
    "def contango (\n",
    "        if vv-v/vv > 0;\n",
    "            buy spy\n",
    "        else go to cash\n",
    ")\n",
    "\n",
    "def backwardation (\n",
    "        when vv-v/vv < 0\n",
    "            go to cash\n",
    ")\n",
    "\n",
    "Switch position when signal changes\n",
    "and remains for three trading days  '''\n",
    "\n",
    "\n"
   ]
  },
  {
   "cell_type": "code",
   "execution_count": 44,
   "metadata": {},
   "outputs": [
    {
     "name": "stdout",
     "output_type": "stream",
     "text": [
      "length of files: v:3185 / vv:3079 / spy:6307\n",
      "columns of v:\n",
      "Index([u'Trade Date', u'Open', u'High', u'Low', u'Close', u'Settle', u'Change',\n",
      "       u'Total Volume', u'EFP', u'Prev. Day Open Interest'],\n",
      "      dtype='object')\n",
      "columns of vv:\n",
      "Index([u'Trade Date', u'Open', u'High', u'Low', u'Close', u'Settle', u'Change',\n",
      "       u'Total Volume', u'EFP', u'Prev. Day Open Interest'],\n",
      "      dtype='object')\n",
      "columns of spy:\n",
      "Index([u'Date', u'Open', u'High', u'Low', u'Close', u'Adj Close', u'Volume'], dtype='object')\n"
     ]
    }
   ],
   "source": [
    "print (\"length of files: v:\" + str(len(v)) + \" / vv:\" + str(len(vv)) + \" / spy:\" + str(len(spy)))\n",
    "print (\"columns of v:\")\n",
    "print (v.columns)\n",
    "print (\"columns of vv:\")\n",
    "print (vv.columns)\n",
    "print (\"columns of spy:\")\n",
    "print (spy.columns)"
   ]
  },
  {
   "cell_type": "code",
   "execution_count": 45,
   "metadata": {},
   "outputs": [
    {
     "name": "stdout",
     "output_type": "stream",
     "text": [
      "minimum date available in v or vv:\n",
      "2005-06-20\n",
      "2005-11-17\n"
     ]
    }
   ],
   "source": [
    "print (\"minimum date available in v or vv:\")\n",
    "print (v[\"Trade Date\"].min())\n",
    "print (vv[\"Trade Date\"].min())"
   ]
  },
  {
   "cell_type": "markdown",
   "metadata": {},
   "source": [
    "# Merge SPY, V, VV"
   ]
  },
  {
   "cell_type": "code",
   "execution_count": 46,
   "metadata": {
    "collapsed": true
   },
   "outputs": [],
   "source": [
    "#rename variables form v & vv\n",
    "v = v.rename(columns = {\"Trade Date\":\"Date\",\"Open\":\"Open_v\",\"High\":\"High_v\",\"Low\":\"Low_v\",\"Close\":\"Close_v\"})\n",
    "vv = vv.rename(columns = {\"Trade Date\":\"Date\",\"Open\":\"Open_vv\",\"High\":\"High_vv\",\"Low\":\"Low_vv\",\"Close\":\"Close_vv\"})"
   ]
  },
  {
   "cell_type": "code",
   "execution_count": 47,
   "metadata": {},
   "outputs": [
    {
     "name": "stdout",
     "output_type": "stream",
     "text": [
      "         Date        Open        High         Low       Close  Adj Close  \\\n",
      "0  2005-06-20  121.080002  121.839996  120.940002  121.400002  94.053932   \n",
      "1  2005-06-21  121.500000  121.650002  121.029999  121.470001  94.108147   \n",
      "2  2005-06-22  121.680000  121.940002  121.070000  121.570000  94.185631   \n",
      "3  2005-06-23  121.320000  121.599998  119.830002  119.860001  92.860809   \n",
      "4  2005-06-24  119.879997  120.010002  118.839996  118.980003  92.179077   \n",
      "\n",
      "     Volume  Close_v  Close_vv  \n",
      "0  41019400    148.3       NaN  \n",
      "1  39879800    149.0       NaN  \n",
      "2  46310100    148.4       NaN  \n",
      "3  62185600    150.5       NaN  \n",
      "4  58572500    152.0       NaN  \n",
      "           Date        Open        High         Low       Close  Adj Close  \\\n",
      "106  2005-11-17  123.680000  124.650002  123.139999  124.639999  96.975136   \n",
      "107  2005-11-18  125.059998  125.279999  124.330002  125.129997  97.356369   \n",
      "108  2005-11-21  125.150002  125.910004  124.980003  125.760002  97.846573   \n",
      "109  2005-11-22  125.559998  126.519997  125.419998  126.300003  98.266693   \n",
      "110  2005-11-23  126.250000  127.410004  126.209999  127.029999  98.834648   \n",
      "\n",
      "       Volume  Close_v  Close_vv  \n",
      "106  55717500    124.0     124.0  \n",
      "107  72437200    121.2     121.2  \n",
      "108  50021200    121.0     121.0  \n",
      "109  66438800    120.8     120.8  \n",
      "110  50854700    118.2     118.2  \n"
     ]
    }
   ],
   "source": [
    "#merge of the 3 data sets base on the Trade Date, keeping the closing value\n",
    "full_data_set = spy.loc[spy[\"Date\"]>=\"2005-06-20\"].merge(v[[\"Date\",\"Close_v\"]],how = \"left\", on = \"Date\") \n",
    "full_data_set = full_data_set.merge(vv[[\"Date\",\"Close_vv\"]],how = \"left\", on = \"Date\") \n",
    "print full_data_set.head(5)\n",
    "print full_data_set[full_data_set[\"Date\"]>=\"2005-11-17\"].head(5)"
   ]
  },
  {
   "cell_type": "markdown",
   "metadata": {},
   "source": [
    "# Create and Analyse"
   ]
  },
  {
   "cell_type": "code",
   "execution_count": 48,
   "metadata": {},
   "outputs": [
    {
     "name": "stdout",
     "output_type": "stream",
     "text": [
      "           Date        Open        High         Low       Close   Adj Close  \\\n",
      "256  2006-06-26  124.540001  125.059998  124.250000  124.989998   98.585564   \n",
      "257  2006-06-27  125.010002  125.290001  123.769997  123.910004   97.733696   \n",
      "258  2006-06-28  124.190002  124.769997  123.650002  124.750000   98.396263   \n",
      "259  2006-06-29  125.199997  127.349998  125.169998  127.269997  100.383934   \n",
      "260  2006-06-30  127.540001  127.660004  126.959999  127.279999  100.391800   \n",
      "\n",
      "        Volume  Close_v  Close_vv   compare action  \n",
      "256   37899600    156.0     155.3 -0.004507   sell  \n",
      "257   69780200    160.0     160.3  0.001871    buy  \n",
      "258   62368100    160.0     160.0  0.000000     NA  \n",
      "259  110634800    143.3     151.3  0.052875    buy  \n",
      "260   54227800    140.3     148.4  0.054582    buy  \n"
     ]
    }
   ],
   "source": [
    "#computation of insights\n",
    "full_data_set[\"compare\"] = (full_data_set[\"Close_vv\"] - full_data_set[\"Close_v\"]) / full_data_set[\"Close_vv\"]\n",
    "full_data_set[\"action\"] = \"NA\"\n",
    "full_data_set.loc[full_data_set[\"compare\"] > 0,\"action\"] = \"buy\"\n",
    "full_data_set.loc[full_data_set[\"compare\"] < 0,\"action\"] = \"sell\"\n",
    "#check random data\n",
    "print full_data_set[full_data_set[\"Date\"]>=\"2006-06-24\"].head(5)"
   ]
  },
  {
   "cell_type": "code",
   "execution_count": 49,
   "metadata": {},
   "outputs": [
    {
     "name": "stdout",
     "output_type": "stream",
     "text": [
      "buy     2406\n",
      "sell     502\n",
      "NA       278\n",
      "Name: action, dtype: int64\n"
     ]
    }
   ],
   "source": [
    "#analysis of the \"action\" variable values\n",
    "print full_data_set[\"action\"].value_counts()"
   ]
  },
  {
   "cell_type": "code",
   "execution_count": 50,
   "metadata": {},
   "outputs": [
    {
     "data": {
      "text/plain": [
       "<matplotlib.figure.Figure at 0x10c36d650>"
      ]
     },
     "metadata": {},
     "output_type": "display_data"
    },
    {
     "data": {
      "image/png": "[encoded data removed]",
      "text/plain": [
       "<matplotlib.figure.Figure at 0x10c28de50>"
      ]
     },
     "metadata": {},
     "output_type": "display_data"
    }
   ],
   "source": [
    "#time analysis of the compare insights\n",
    "plt.figure()\n",
    "full_data_set.plot(x='Date', y='compare')\n",
    "plt.show()"
   ]
  },
  {
   "cell_type": "code",
   "execution_count": 51,
   "metadata": {},
   "outputs": [
    {
     "name": "stdout",
     "output_type": "stream",
     "text": [
      "         Date        Open        High         Low       Close  Adj Close  \\\n",
      "0  2005-06-20  121.080002  121.839996  120.940002  121.400002  94.053932   \n",
      "1  2005-06-21  121.500000  121.650002  121.029999  121.470001  94.108147   \n",
      "2  2005-06-22  121.680000  121.940002  121.070000  121.570000  94.185631   \n",
      "3  2005-06-23  121.320000  121.599998  119.830002  119.860001  92.860809   \n",
      "4  2005-06-24  119.879997  120.010002  118.839996  118.980003  92.179077   \n",
      "\n",
      "     Volume  Close_v  Close_vv  compare action  \n",
      "0  41019400    148.3       NaN      NaN     NA  \n",
      "1  39879800    149.0       NaN      NaN     NA  \n",
      "2  46310100    148.4       NaN      NaN     NA  \n",
      "3  62185600    150.5       NaN      NaN     NA  \n",
      "4  58572500    152.0       NaN      NaN     NA  \n",
      "           Date        Open        High         Low       Close  Adj Close  \\\n",
      "106  2005-11-17  123.680000  124.650002  123.139999  124.639999  96.975136   \n",
      "107  2005-11-18  125.059998  125.279999  124.330002  125.129997  97.356369   \n",
      "108  2005-11-21  125.150002  125.910004  124.980003  125.760002  97.846573   \n",
      "109  2005-11-22  125.559998  126.519997  125.419998  126.300003  98.266693   \n",
      "110  2005-11-23  126.250000  127.410004  126.209999  127.029999  98.834648   \n",
      "\n",
      "       Volume  Close_v  Close_vv  compare action  \n",
      "106  55717500    124.0     124.0      0.0     NA  \n",
      "107  72437200    121.2     121.2      0.0     NA  \n",
      "108  50021200    121.0     121.0      0.0     NA  \n",
      "109  66438800    120.8     120.8      0.0     NA  \n",
      "110  50854700    118.2     118.2      0.0     NA  \n"
     ]
    }
   ],
   "source": [
    "#look into \"NA\" value\n",
    "print full_data_set.loc[(full_data_set[\"action\"]== \"NA\") ].head(5)\n",
    "print full_data_set.loc[(full_data_set[\"action\"]== \"NA\") &(full_data_set[\"Close_vv\"]>0)  ].head(5)"
   ]
  },
  {
   "cell_type": "markdown",
   "metadata": {},
   "source": [
    "### We have NA value because of 2 situations:\n",
    "we have data from V and not from VV\n",
    "V closing value = VV closing value => compare = 0"
   ]
  },
  {
   "cell_type": "markdown",
   "metadata": {},
   "source": [
    "# Performance : buy when > 0, hold until sell"
   ]
  },
  {
   "cell_type": "code",
   "execution_count": 52,
   "metadata": {
    "collapsed": true
   },
   "outputs": [],
   "source": [
    "#create a variable to know if for each date, we are in/off the portfolio\n",
    "#also set the price paid (variable \"close\" from Spy) at each time we are going in or off\n",
    "#we compute the performance by substracting the price paid when goes in from price when goes off from\n",
    "in_portfolio = False\n",
    "price_paid_in = 0\n",
    "full_data_set[\"in_portfolio\"] =\"\"\n",
    "full_data_set[\"pricePaidIn\"] = 0\n",
    "full_data_set[\"pricePaidOff\"] = 0\n",
    "for index in np.arange(1,len(full_data_set)):\n",
    "\n",
    "    if (full_data_set.loc[index,\"action\"]== \"buy\") & (in_portfolio == False):\n",
    "        price_paid_in = full_data_set.loc[index,\"Close\"]\n",
    "        in_portfolio = True\n",
    "        full_data_set.loc[index,\"in_portfolio\"] = in_portfolio\n",
    "\n",
    "    if (full_data_set.loc[index,\"action\"]== \"sell\") & (in_portfolio == True):\n",
    "        in_portfolio = False\n",
    "        full_data_set.loc[index,\"in_portfolio\"] = in_portfolio\n",
    "        full_data_set.loc[index,\"pricePaidIn\"] = price_paid_in\n",
    "        full_data_set.loc[index,\"pricePaidOff\"] = full_data_set.loc[index,\"Close\"]\n",
    "\n",
    "full_data_set[\"performance\"] = full_data_set[\"pricePaidOff\"] - full_data_set[\"pricePaidIn\"]"
   ]
  },
  {
   "cell_type": "markdown",
   "metadata": {},
   "source": [
    "# Difference in price buy and sell in sum and along time"
   ]
  },
  {
   "cell_type": "code",
   "execution_count": 53,
   "metadata": {},
   "outputs": [
    {
     "name": "stdout",
     "output_type": "stream",
     "text": [
      "sum of price paid :13172.769997\n",
      "sum of price selled :13262.309952\n",
      "sum of delta :89.539955\n"
     ]
    }
   ],
   "source": [
    "print (\"sum of price paid :\" + str(full_data_set[\"pricePaidIn\"].sum()))\n",
    "print (\"sum of price selled :\" + str(full_data_set[\"pricePaidOff\"].sum()))\n",
    "print (\"sum of delta :\" + str(full_data_set[\"performance\"].sum()))"
   ]
  },
  {
   "cell_type": "code",
   "execution_count": 54,
   "metadata": {},
   "outputs": [
    {
     "data": {
      "image/png": "[encoded data removed]",
      "text/plain": [
       "<matplotlib.figure.Figure at 0x10c58fb50>"
      ]
     },
     "metadata": {},
     "output_type": "display_data"
    }
   ],
   "source": [
    "plt.figure()\n",
    "full_data_set[\"performance\"].plot()\n",
    "plt.show()"
   ]
  },
  {
   "cell_type": "code",
   "execution_count": 56,
   "metadata": {},
   "outputs": [
    {
     "data": {
      "text/html": [
       "<div>\n",
       "<style>\n",
       "    .dataframe thead tr:only-child th {\n",
       "        text-align: right;\n",
       "    }\n",
       "\n",
       "    .dataframe thead th {\n",
       "        text-align: left;\n",
       "    }\n",
       "\n",
       "    .dataframe tbody tr th {\n",
       "        vertical-align: top;\n",
       "    }\n",
       "</style>\n",
       "<table border=\"1\" class=\"dataframe\">\n",
       "  <thead>\n",
       "    <tr style=\"text-align: right;\">\n",
       "      <th></th>\n",
       "      <th>Date</th>\n",
       "      <th>Open</th>\n",
       "      <th>High</th>\n",
       "      <th>Low</th>\n",
       "      <th>Close</th>\n",
       "      <th>Adj Close</th>\n",
       "      <th>Volume</th>\n",
       "      <th>Close_v</th>\n",
       "      <th>Close_vv</th>\n",
       "      <th>compare</th>\n",
       "      <th>action</th>\n",
       "      <th>in_portfolio</th>\n",
       "      <th>pricePaidIn</th>\n",
       "      <th>pricePaidOff</th>\n",
       "      <th>performance</th>\n",
       "    </tr>\n",
       "  </thead>\n",
       "  <tbody>\n",
       "    <tr>\n",
       "      <th>649</th>\n",
       "      <td>2008-01-17</td>\n",
       "      <td>137.809998</td>\n",
       "      <td>137.880005</td>\n",
       "      <td>132.929993</td>\n",
       "      <td>133.429993</td>\n",
       "      <td>108.25592</td>\n",
       "      <td>397892600</td>\n",
       "      <td>26.97</td>\n",
       "      <td>26.7</td>\n",
       "      <td>-0.010112</td>\n",
       "      <td>sell</td>\n",
       "      <td>False</td>\n",
       "      <td>148.130005</td>\n",
       "      <td>133.429993</td>\n",
       "      <td>-14.700012</td>\n",
       "    </tr>\n",
       "  </tbody>\n",
       "</table>\n",
       "</div>"
      ],
      "text/plain": [
       "           Date        Open        High         Low       Close  Adj Close  \\\n",
       "649  2008-01-17  137.809998  137.880005  132.929993  133.429993  108.25592   \n",
       "\n",
       "        Volume  Close_v  Close_vv   compare action in_portfolio  pricePaidIn  \\\n",
       "649  397892600    26.97      26.7 -0.010112   sell        False   148.130005   \n",
       "\n",
       "     pricePaidOff  performance  \n",
       "649    133.429993   -14.700012  "
      ]
     },
     "execution_count": 56,
     "metadata": {},
     "output_type": "execute_result"
    }
   ],
   "source": [
    "#access specific data\n",
    "full_data_set.loc[full_data_set[\"performance\"] < -13]"
   ]
  },
  {
   "cell_type": "code",
   "execution_count": null,
   "metadata": {
    "collapsed": true
   },
   "outputs": [],
   "source": []
  }
 ],
 "metadata": {
  "kernelspec": {
   "display_name": "Python [conda env:py2]",
   "language": "python",
   "name": "conda-env-py2-py"
  },
  "language_info": {
   "codemirror_mode": {
    "name": "ipython",
    "version": 2
   },
   "file_extension": ".py",
   "mimetype": "text/x-python",
   "name": "python",
   "nbconvert_exporter": "python",
   "pygments_lexer": "ipython2",
   "version": "2.7.13"
  }
 },
 "nbformat": 4,
 "nbformat_minor": 2
}
